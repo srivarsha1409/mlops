{
 "cells": [
  {
   "cell_type": "code",
   "execution_count": 4,
   "id": "58aaae80",
   "metadata": {},
   "outputs": [],
   "source": [
    "import pandas as pd\n",
    "import numpy as np\n",
    "import matplotlib.pyplot as plt\n",
    "import seaborn as sns\n",
    "import sklearn\n",
    "import mlflow\n",
    "import mlflow.sklearn\n",
    "\n",
    "from sklearn.preprocessing import StandardScaler\n",
    "from sklearn.cluster import KMeans, DBSCAN, AgglomerativeClustering\n",
    "from sklearn.metrics import (\n",
    "    silhouette_score, silhouette_samples,\n",
    "    adjusted_rand_score, normalized_mutual_info_score,\n",
    "    davies_bouldin_score, calinski_harabasz_score\n",
    ")\n",
    "\n"
   ]
  },
  {
   "cell_type": "code",
   "execution_count": 5,
   "id": "bf16b474",
   "metadata": {},
   "outputs": [],
   "source": [
    "\n",
    "df = pd.read_csv(\"C:/AI workforce/mlops/mlops-clustering/data/data.csv\")\n",
    "X = df[[\"x\", \"y\"]]\n",
    "true_labels = df[\"color\"]\n",
    "\n",
    "scaler = StandardScaler()\n",
    "X_scaled = scaler.fit_transform(X)"
   ]
  },
  {
   "cell_type": "code",
   "execution_count": 6,
   "id": "9542b347",
   "metadata": {},
   "outputs": [],
   "source": [
    "def log_plot(fig, name):\n",
    "    path = f\"{name}.png\"\n",
    "    fig.savefig(path, bbox_inches=\"tight\")\n",
    "    mlflow.log_artifact(path)\n",
    "    plt.close(fig)"
   ]
  },
  {
   "cell_type": "code",
   "execution_count": null,
   "id": "7ece15df",
   "metadata": {},
   "outputs": [],
   "source": [
    "with mlflow.start_run(run_name=\"KMeans\"):\n",
    "    kmeans = KMeans(n_clusters=3, random_state=42)\n",
    "    df[\"KMeans\"] = kmeans.fit_predict(X_scaled)\n",
    "\n",
    "  \n",
    "    mlflow.log_param(\"algorithm\", \"KMeans\")\n",
    "    mlflow.log_param(\"n_clusters\", 3)\n",
    "\n",
    " \n",
    "    mlflow.log_metric(\"Silhouette\", silhouette_score(X_scaled, df[\"KMeans\"]))\n",
    "    mlflow.log_metric(\"ARI\", adjusted_rand_score(true_labels, df[\"KMeans\"]))\n",
    "    mlflow.log_metric(\"NMI\", normalized_mutual_info_score(true_labels, df[\"KMeans\"]))\n",
    "    mlflow.log_metric(\"DBI\", davies_bouldin_score(X_scaled, df[\"KMeans\"]))\n",
    "    mlflow.log_metric(\"CHI\", calinski_harabasz_score(X_scaled, df[\"KMeans\"]))\n",
    "\n",
    "  \n",
    "    centers_original = scaler.inverse_transform(kmeans.cluster_centers_)\n",
    "    pd.DataFrame(centers_original, columns=[\"x\", \"y\"]).to_csv(\"kmeans_centers.csv\", index=False)\n",
    "    mlflow.log_artifact(\"kmeans_centers.csv\")\n",
    "\n",
    "    \n",
    "    fig, ax = plt.subplots(figsize=(8,6))\n",
    "    ax.scatter(df[\"x\"], df[\"y\"], c=df[\"KMeans\"], cmap=\"Set1\", s=40, edgecolor=\"k\", alpha=0.7)\n",
    "    ax.scatter(centers_original[:,0], centers_original[:,1], c=\"yellow\", s=300, marker=\"*\", edgecolor=\"k\", label=\"Centers\")\n",
    "    ax.set_title(\"KMeans Clustering (k=3)\")\n",
    "    log_plot(fig, \"kmeans_clusters\")\n",
    "\n",
    "   \n",
    "    k_values = range(2, 11)\n",
    "    inertias, silhouettes = [], []\n",
    "    for k in k_values:\n",
    "        km = KMeans(n_clusters=k, random_state=42)\n",
    "        labels = km.fit_predict(X_scaled)\n",
    "        inertias.append(km.inertia_)\n",
    "        silhouettes.append(silhouette_score(X_scaled, labels))\n",
    "\n",
    "    fig, axes = plt.subplots(1,2, figsize=(12,5))\n",
    "    axes[0].plot(k_values, inertias, marker=\"o\")\n",
    "    axes[0].set_title(\"Elbow Method\")\n",
    "    axes[0].set_xlabel(\"Number of clusters (k)\")\n",
    "    axes[0].set_ylabel(\"Inertia\")\n",
    "\n",
    "    axes[1].plot(k_values, silhouettes, marker=\"o\", color=\"orange\")\n",
    "    axes[1].set_title(\"Silhouette Scores\")\n",
    "    axes[1].set_xlabel(\"Number of clusters (k)\")\n",
    "    axes[1].set_ylabel(\"Silhouette Score\")\n",
    "    log_plot(fig, \"kmeans_elbow_silhouette\")"
   ]
  },
  {
   "cell_type": "code",
   "execution_count": null,
   "id": "887d3f95",
   "metadata": {},
   "outputs": [],
   "source": [
    "\n",
    "with mlflow.start_run(run_name=\"DBSCAN\"):\n",
    "    dbscan = DBSCAN(eps=0.5, min_samples=5)\n",
    "    df[\"DBSCAN\"] = dbscan.fit_predict(X_scaled)\n",
    "\n",
    "    mlflow.log_param(\"algorithm\", \"DBSCAN\")\n",
    "    mlflow.log_param(\"eps\", 0.5)\n",
    "    mlflow.log_param(\"min_samples\", 5)\n",
    "\n",
    "    if len(set(df[\"DBSCAN\"])) > 1:\n",
    "        mlflow.log_metric(\"Silhouette\", silhouette_score(X_scaled, df[\"DBSCAN\"]))\n",
    "    else:\n",
    "        mlflow.log_metric(\"Silhouette\", -1)\n",
    "    mlflow.log_metric(\"ARI\", adjusted_rand_score(true_labels, df[\"DBSCAN\"]))\n",
    "    mlflow.log_metric(\"NMI\", normalized_mutual_info_score(true_labels, df[\"DBSCAN\"]))\n",
    "\n",
    "    fig, ax = plt.subplots(figsize=(8,6))\n",
    "    ax.scatter(df[\"x\"], df[\"y\"], c=df[\"DBSCAN\"], cmap=\"Set1\", s=40, edgecolor=\"k\", alpha=0.7)\n",
    "    ax.set_title(\"DBSCAN Clustering\")\n",
    "    log_plot(fig, \"dbscan_clusters\")\n"
   ]
  },
  {
   "cell_type": "code",
   "execution_count": 9,
   "id": "71440fa0",
   "metadata": {},
   "outputs": [],
   "source": [
    "with mlflow.start_run(run_name=\"Agglomerative\"):\n",
    "    agg = AgglomerativeClustering(n_clusters=3)\n",
    "    df[\"Agglomerative\"] = agg.fit_predict(X_scaled)\n",
    "\n",
    "    mlflow.log_param(\"algorithm\", \"Agglomerative\")\n",
    "    mlflow.log_param(\"n_clusters\", 3)\n",
    "\n",
    "    mlflow.log_metric(\"Silhouette\", silhouette_score(X_scaled, df[\"Agglomerative\"]))\n",
    "    mlflow.log_metric(\"ARI\", adjusted_rand_score(true_labels, df[\"Agglomerative\"]))\n",
    "    mlflow.log_metric(\"NMI\", normalized_mutual_info_score(true_labels, df[\"Agglomerative\"]))\n",
    "\n",
    "    fig, ax = plt.subplots(figsize=(8,6))\n",
    "    ax.scatter(df[\"x\"], df[\"y\"], c=df[\"Agglomerative\"], cmap=\"Set1\", s=40, edgecolor=\"k\", alpha=0.7)\n",
    "    ax.set_title(\"Agglomerative Clustering\")\n",
    "    log_plot(fig, \"agg_clusters\")\n"
   ]
  }
 ],
 "metadata": {
  "kernelspec": {
   "display_name": "Python 3",
   "language": "python",
   "name": "python3"
  },
  "language_info": {
   "codemirror_mode": {
    "name": "ipython",
    "version": 3
   },
   "file_extension": ".py",
   "mimetype": "text/x-python",
   "name": "python",
   "nbconvert_exporter": "python",
   "pygments_lexer": "ipython3",
   "version": "3.12.0"
  }
 },
 "nbformat": 4,
 "nbformat_minor": 5
}
